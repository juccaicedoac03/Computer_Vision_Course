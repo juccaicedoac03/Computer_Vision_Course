{
  "nbformat": 4,
  "nbformat_minor": 0,
  "metadata": {
    "colab": {
      "provenance": [],
      "gpuType": "T4",
      "authorship_tag": "ABX9TyN66QV0z9qEl43sk5b8g+Rk",
      "include_colab_link": true
    },
    "kernelspec": {
      "name": "python3",
      "display_name": "Python 3"
    },
    "language_info": {
      "name": "python"
    },
    "accelerator": "GPU",
    "gpuClass": "standard"
  },
  "cells": [
    {
      "cell_type": "markdown",
      "metadata": {
        "id": "view-in-github",
        "colab_type": "text"
      },
      "source": [
        "<a href=\"https://colab.research.google.com/github/juccaicedoac03/Computer_Vision_Course/blob/main/1_Conceptos_preliminares/Autodiff.ipynb\" target=\"_parent\"><img src=\"https://colab.research.google.com/assets/colab-badge.svg\" alt=\"Open In Colab\"/></a>"
      ]
    },
    {
      "cell_type": "markdown",
      "source": [
        "# Regresión Lineal regularizada (Ridge regression)\n",
        "\n",
        "Asumimos:\n",
        "\n",
        "$$\\hat{y}=f(X)=Xw$$\n",
        "\n",
        "Función de costo: \n",
        "\n",
        "$$ \\mathcal{L}: \\|Xw-y\\|^2_2+\\lambda\\|w\\|^2_2$$\n",
        "\n",
        "Problema de optimización:\n",
        "\n",
        "$$w^* = \\arg \\min_w \\mathbb{E}_{p(X,y)}\\{\\|Xw-y\\|^2_2\\}+\\lambda\\|w\\|^2_2$$\n",
        "\n",
        "Derivada de la función de costo:\n",
        "\n",
        "$$\\nabla_w\\mathcal{L}(f(X|w),y)=2\\left(X^\\top\\left(Xw-y\\right)+\\lambda w\\right)$$\n",
        "\n",
        "Recordemos que:\n",
        "\n",
        "$X\\in\\mathbb{R}^{N \\times P},$  $w\\in\\mathbb{R}^{P\\times 1},$ $y,\\hat{y}\\in\\mathbb{R}^{N\\times 1},$\n",
        "\n",
        "donde para el ejercicio $N=500$ y $P=1$"
      ],
      "metadata": {
        "id": "tfdvcPi_kRMG"
      }
    },
    {
      "cell_type": "markdown",
      "source": [
        "## Solución analítica\n",
        "\n",
        "$$w^* = \\left(X^\\top X+\\lambda I\\right)^{-1}X^\\top y$$\n",
        "\n",
        "## Por gradiente descendiente\n",
        "\n",
        "$$w_i = w_{i-1} - \\eta_i \\nabla_w\\mathcal{L}(f(X|w_{i-1}),y)$$\n",
        "\n",
        "## La diferenciación automática (algorítmica) estima \n",
        "$$\\nabla_w\\mathcal{L}(f(X|w_{i-1}),y)$$"
      ],
      "metadata": {
        "id": "FjjWOWkLmbB6"
      }
    },
    {
      "cell_type": "markdown",
      "source": [
        "# Ejercicio: Resolver el problema de regresión de las 3 soluciones"
      ],
      "metadata": {
        "id": "MtnVZ1JmnHgx"
      }
    },
    {
      "cell_type": "markdown",
      "source": [
        "Importamos librerías"
      ],
      "metadata": {
        "id": "cXc5_zV1nUNj"
      }
    },
    {
      "cell_type": "code",
      "source": [
        "import numpy as np\n",
        "import matplotlib.pyplot as plt"
      ],
      "metadata": {
        "id": "e-TmJW3enEn3"
      },
      "execution_count": 1,
      "outputs": []
    },
    {
      "cell_type": "markdown",
      "source": [
        "Creamos datos sintéticos"
      ],
      "metadata": {
        "id": "BUyFqAZjpKFW"
      }
    },
    {
      "cell_type": "code",
      "source": [
        "N = 500 # número de muestras\n",
        "\n",
        "x = np.linspace(-5,5,N) # datos\n",
        "\n",
        "# pesos, recordemos que: y = w1*x + w0\n",
        "w1 = 2\n",
        "w0 = -1\n",
        "\n",
        "# Forma matricial\n",
        "Xdata = np.c_[x.reshape(-1,1),np.ones((N,1))]\n",
        "w = np.array([w1,w0]).reshape(-1,1)\n",
        "y = Xdata.dot(w) # 500 x2  x 2  x 1\n",
        "\n",
        "# Agregamos ruido \n",
        "var = 0.8\n",
        "noise = np.sqrt(var)*np.random.randn(N)\n",
        "yn = y + noise.reshape(-1,1)\n",
        "\n",
        "print(Xdata.shape, yn.shape)"
      ],
      "metadata": {
        "colab": {
          "base_uri": "https://localhost:8080/"
        },
        "id": "aI2obhFOkQOb",
        "outputId": "8a247c45-82b1-4b45-d26d-e1f7aca60881"
      },
      "execution_count": 2,
      "outputs": [
        {
          "output_type": "stream",
          "name": "stdout",
          "text": [
            "(500, 2) (500, 1)\n"
          ]
        }
      ]
    },
    {
      "cell_type": "markdown",
      "source": [
        "## Ejercicio: Escribir un código para encontrar la solución analítica del problema de regresión (Solución 1): "
      ],
      "metadata": {
        "id": "l3X7wADNs8Vj"
      }
    },
    {
      "cell_type": "code",
      "source": [
        "# Escribir tu código aquí\n",
        "# NOTA: imprimir y graficar la solución\n"
      ],
      "metadata": {
        "id": "k52Onkq_tGWK"
      },
      "execution_count": null,
      "outputs": []
    },
    {
      "cell_type": "markdown",
      "source": [
        "## Solución 2: Enfoque de optimización por mini lotes"
      ],
      "metadata": {
        "id": "Q4EoM0zmqwO5"
      }
    },
    {
      "cell_type": "markdown",
      "source": [
        "<center>\n",
        "<figure>\n",
        "<img src='https://miro.medium.com/v2/resize:fit:4800/1*Fg89isxWq_CuNekuMEMAVQ.gif' width=\"500\"> \n",
        "\n",
        "Source: https://towardsdatascience.com/how-to-train-neural-network-faster-with-optimizers-d297730b3713\n",
        "</center>\n"
      ],
      "metadata": {
        "id": "R2vyoPDjrOH3"
      }
    },
    {
      "cell_type": "markdown",
      "source": [
        "La idea de los mini lotes es recorrer varias veces (epochs) los datos particionados en segmentos más pequeños (bathces) y calcular el gradiente de la función de costo en cada iteración."
      ],
      "metadata": {
        "id": "jtQeI7cCsgGx"
      }
    },
    {
      "cell_type": "code",
      "execution_count": 4,
      "metadata": {
        "colab": {
          "base_uri": "https://localhost:8080/"
        },
        "id": "ZAMNw779j5Ie",
        "outputId": "16c027e5-b440-4732-c471-057a1c89b889"
      },
      "outputs": [
        {
          "output_type": "stream",
          "name": "stdout",
          "text": [
            "Pesos originales [[ 2 -1]]\n",
            "Pesos estimados [[ 2.0252473 -0.9968141]]\n"
          ]
        }
      ],
      "source": [
        "#training\n",
        "epochs = 50 # número de iteraciones\n",
        "batch_size = 32 # cantidad de muestras en un batch\n",
        "\n",
        "lr = 1e-4  #hyperparametro learning rate\n",
        "\n",
        "we = np.random.randn(2).reshape(-1,1)  # inicializamos los pesos\n",
        "loss = np.zeros((epochs)) # inicializamos la perdida en ceros\n",
        "lamb = 1e-1 # hyperparametro regularizacion\n",
        "\n",
        "wM = np.zeros((epochs,len(we))) # creamos variable para guardar los valores de los pesos en cada epoca\n",
        " \n",
        "Niter = int(Xdata.shape[0]/batch_size) #N iteraciones por epoch\n",
        "\n",
        "for epoch in range(epochs): #epochs\n",
        "  for i in range(1,Niter+1): #iterar por bathces en epoch\n",
        "    Xbatch = Xdata[(i-1)*batch_size:i*batch_size,:]\n",
        "    yn_batch = yn[(i-1)*batch_size:i*batch_size]\n",
        "    ye_batch = (Xbatch.dot(we)).reshape(-1,1)\n",
        "    grad = (2*Xbatch.T).dot(ye_batch-yn_batch) + 2*lamb*we# derivada de la función de costo\n",
        "    we = we - lr*grad\n",
        "  loss[epoch] = np.linalg.norm(yn_batch-ye_batch) + lamb*np.linalg.norm(we)\n",
        "  wM[epoch] = we.reshape(1,-1)\n",
        "    \n",
        "print('Pesos originales', w.T)\n",
        "print('Pesos estimados',we.T)"
      ]
    },
    {
      "cell_type": "code",
      "source": [
        "plt.figure(figsize=(10,6))\n",
        "\n",
        "plt.subplot(421)\n",
        "plt.plot(y, label = 'original')\n",
        "plt.plot(yn,label = 'ruidosa')\n",
        "plt.xlabel('entrada')\n",
        "plt.ylabel('salida')\n",
        "plt.legend()\n",
        "\n",
        "plt.subplot(422)\n",
        "plt.plot(np.arange(epochs),loss)\n",
        "plt.xlabel('epochs')\n",
        "plt.ylabel('costo')\n",
        "\n",
        "\n",
        "plt.subplot(423)\n",
        "plt.plot(y, label = 'original')\n",
        "ye = Xdata.dot(we)\n",
        "plt.plot(ye, label = 'estimado')\n",
        "plt.xlabel('entrada')\n",
        "plt.ylabel('salida')\n",
        "plt.legend()\n",
        "\n",
        "\n",
        "plt.subplot(424)\n",
        "plt.plot(wM[:,0],wM[:,1],'.' )\n",
        "plt.plot(w[0],w[1],'rd',label='ori_par' )\n",
        "plt.plot(we[0],we[1],'bx',label='est_par' )\n",
        "\n",
        "\n",
        "plt.xlabel('w1')\n",
        "plt.ylabel('w0')\n",
        "plt.legend()\n",
        "\n",
        "\n",
        "plt.subplots_adjust(wspace=0.2,hspace=0.6)\n",
        "plt.show()"
      ],
      "metadata": {
        "colab": {
          "base_uri": "https://localhost:8080/",
          "height": 289
        },
        "id": "pzT518IDuosQ",
        "outputId": "9d10898a-37c6-474e-dc2f-31f3e2dede5e"
      },
      "execution_count": 8,
      "outputs": [
        {
          "output_type": "display_data",
          "data": {
            "text/plain": [
              "<Figure size 1000x600 with 4 Axes>"
            ],
            "image/png": "[encoded data removed]"
          },
          "metadata": {}
        }
      ]
    },
    {
      "cell_type": "markdown",
      "source": [
        "## Usando Autodiff por medio de tensorflow"
      ],
      "metadata": {
        "id": "-tc4bxPdvuCA"
      }
    },
    {
      "cell_type": "code",
      "source": [
        "import tensorflow as tf"
      ],
      "metadata": {
        "id": "KBCrTZ6GvDdy"
      },
      "execution_count": 9,
      "outputs": []
    },
    {
      "cell_type": "markdown",
      "source": [
        "Convertimos todos los arreglos a tensores.\n",
        "\n",
        "ver: https://www.tensorflow.org/api_docs/python/tf"
      ],
      "metadata": {
        "id": "DaWX1Oyuv735"
      }
    },
    {
      "cell_type": "code",
      "source": [
        "Xdata_tf = tf.convert_to_tensor(Xdata,dtype=tf.float32)\n",
        "yn_tf = tf.convert_to_tensor(yn,dtype=tf.float32)\n",
        "we_tf = tf.Variable(tf.random.normal((2, 1),dtype=tf.float32))\n",
        "\n",
        "print(Xdata_tf.shape)\n",
        "print(yn_tf.shape)\n",
        "print(we_tf.shape)"
      ],
      "metadata": {
        "colab": {
          "base_uri": "https://localhost:8080/"
        },
        "id": "Xi44mweuv5kQ",
        "outputId": "570a8202-cf55-4440-8528-b5b84d2e5f9e"
      },
      "execution_count": 16,
      "outputs": [
        {
          "output_type": "stream",
          "name": "stdout",
          "text": [
            "(500, 2)\n",
            "(500, 1)\n",
            "(2, 1)\n"
          ]
        }
      ]
    },
    {
      "cell_type": "markdown",
      "source": [
        "Definimos la función de costo que queremos derivar como una función de python"
      ],
      "metadata": {
        "id": "h3VjcNhwwnE8"
      }
    },
    {
      "cell_type": "code",
      "source": [
        "#funcion de perdida a derivar\n",
        "def l(w,X,y,lam=1e-3): # Los parámetros son todos los datos que interfieren en la función de costo\n",
        "    e = y-tf.linalg.matmul(X,w) # Ahora las operaciones se deben hacer entre tensores usando tensorflow\n",
        "    return tf.linalg.matmul(e,e,transpose_a=True)+  lam*tf.linalg.matmul(we_tf,we_tf,transpose_a=True)"
      ],
      "metadata": {
        "id": "TWh4CQnmwbNX"
      },
      "execution_count": 17,
      "outputs": []
    },
    {
      "cell_type": "code",
      "source": [
        "# Ejemplo, Calculamos el costo inicial:\n",
        "z=l(we_tf,Xdata_tf,yn_tf) \n",
        "\n",
        "print('Costo=',z.numpy()[0])"
      ],
      "metadata": {
        "colab": {
          "base_uri": "https://localhost:8080/"
        },
        "id": "kBi-KInaxGvy",
        "outputId": "a5034f5a-258f-4540-dd22-e3013a59a2eb"
      },
      "execution_count": 18,
      "outputs": [
        {
          "output_type": "stream",
          "name": "stdout",
          "text": [
            "Costo= [8546.456]\n"
          ]
        }
      ]
    },
    {
      "cell_type": "markdown",
      "source": [
        "Cálculamos el gradiente con autodiff"
      ],
      "metadata": {
        "id": "Ilqnz-YZxd66"
      }
    },
    {
      "cell_type": "code",
      "source": [
        "#calculo gradient con autodiff\n",
        "lr = tf.constant(1e-4,dtype=tf.float32) # definimos la tasa de aprendizaje\n",
        "\n",
        "with tf.GradientTape() as tape: #crear contexto gradient tape para guardar cada operacion que envuelve una variable\n",
        "    z=l(we_tf,Xdata_tf,yn_tf) #funcion de perdida (loss) para salvar memoria colocar la menor cantidad de codigo en el tape\n",
        "\n",
        "gradients = tape.gradient(z,[we_tf]) # tape calcula  los gradientes del resultado z con respecto a [w1,w2]\n",
        "\n",
        "print('gradiente=',gradients[0].numpy().T) #gradient tape hace los calculos una sola vez de forma inversa sin importar la cantidad de variables\n",
        "print('wi=',we_tf.numpy().T)\n",
        "we_tf.assign_sub(lr*gradients[0]) # es igual a we_tf -= lr*gradients[0]#tf.Variable(we_tf - lr*gradients[0],dtype=tf.float32) --> fórmula del gradiente descendente\n",
        "print('wi-lr*gwi=',we_tf.numpy().T)"
      ],
      "metadata": {
        "colab": {
          "base_uri": "https://localhost:8080/"
        },
        "id": "ddeVVwn3xT2A",
        "outputId": "c786a4ea-bf06-4081-a57d-7bc90966b6a4"
      },
      "execution_count": 19,
      "outputs": [
        {
          "output_type": "stream",
          "name": "stdout",
          "text": [
            "gradiente= [[-10443.627   1820.141]]\n",
            "wi= [[0.7772987  0.81472945]]\n",
            "wi-lr*gwi= [[1.8216614  0.63271534]]\n"
          ]
        }
      ]
    },
    {
      "cell_type": "markdown",
      "source": [
        "## Ejercicio: Escribir un código que permita resolver el problema de regresión lineal mediante optimización por mini lotes y usando Autodiff para calcular automáticamente el gradiente (Solución 3)."
      ],
      "metadata": {
        "id": "8ZqKP0snyR4G"
      }
    },
    {
      "cell_type": "code",
      "source": [
        "# Escribir tu código aquí\n",
        "# NOTA: imprimir y graficar la solución\n"
      ],
      "metadata": {
        "id": "CkZOTwwFx8Fh"
      },
      "execution_count": null,
      "outputs": []
    },
    {
      "cell_type": "markdown",
      "source": [
        "# Ejercicio: Resolver el problema de regresión mediante los 3 tipos de solución para datos con N=800 y P= 8"
      ],
      "metadata": {
        "id": "xCu_942szHfg"
      }
    },
    {
      "cell_type": "markdown",
      "source": [
        "## Solución 1"
      ],
      "metadata": {
        "id": "oY7bo937zaR6"
      }
    },
    {
      "cell_type": "code",
      "source": [
        "# Escribir tu código aquí\n",
        "# NOTA: imprimir y graficar la solución\n"
      ],
      "metadata": {
        "id": "LsZfPGSVzYj-"
      },
      "execution_count": null,
      "outputs": []
    },
    {
      "cell_type": "markdown",
      "source": [
        "## Solución 2"
      ],
      "metadata": {
        "id": "IsTNEp8XzcPa"
      }
    },
    {
      "cell_type": "code",
      "source": [
        "# Escribir tu código aquí\n",
        "# NOTA: imprimir y graficar la solución\n"
      ],
      "metadata": {
        "id": "dAss8FYTzdSJ"
      },
      "execution_count": null,
      "outputs": []
    },
    {
      "cell_type": "markdown",
      "source": [
        "# Solución 3"
      ],
      "metadata": {
        "id": "hgMUcEcDzfQn"
      }
    },
    {
      "cell_type": "code",
      "source": [
        "# Escribir tu código aquí\n",
        "# NOTA: imprimir y graficar la solución\n"
      ],
      "metadata": {
        "id": "l5zYXnMrzeyV"
      },
      "execution_count": null,
      "outputs": []
    }
  ]
}